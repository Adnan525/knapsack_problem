{
 "cells": [
  {
   "cell_type": "code",
   "execution_count": 40,
   "metadata": {},
   "outputs": [],
   "source": [
    "import random"
   ]
  },
  {
   "cell_type": "code",
   "execution_count": 41,
   "metadata": {},
   "outputs": [],
   "source": [
    "population = []\n",
    "population_length = 30\n",
    "parent_length = population_length // 3\n",
    "mutation_rate = 0.1\n",
    "current_best_fitness = -1\n",
    "current_best_combination = []"
   ]
  },
  {
   "cell_type": "code",
   "execution_count": 42,
   "metadata": {},
   "outputs": [
    {
     "name": "stdout",
     "output_type": "stream",
     "text": [
      "Item 0 : Weight 7 Value 22\n",
      "Item 1 : Weight 4 Value 54\n",
      "Item 2 : Weight 6 Value 82\n",
      "Item 3 : Weight 2 Value 61\n",
      "Item 4 : Weight 10 Value 9\n",
      "Item 5 : Weight 7 Value 52\n",
      "Item 6 : Weight 1 Value 74\n",
      "Item 7 : Weight 7 Value 59\n",
      "Item 8 : Weight 4 Value 29\n",
      "Item 9 : Weight 2 Value 41\n"
     ]
    }
   ],
   "source": [
    "# randomly initialise the list of items\n",
    "weight = [random.randint(1, 10) for i in range(0, 10)]\n",
    "value = [random.randint(1, 100) for i in range(0, 10)]\n",
    "# print item no, weight and value\n",
    "for i in range(0, 10):\n",
    "    print(\"Item\", i, \": Weight\", weight[i], \"Value\", value[i])"
   ]
  },
  {
   "cell_type": "code",
   "execution_count": 43,
   "metadata": {},
   "outputs": [],
   "source": [
    "def generate_initial_population(count : int = population_length):\n",
    "    \"\"\"\n",
    "    Generate initial population of size count\n",
    "    :param count: size of population\n",
    "    :return: list of population\n",
    "    \"\"\"\n",
    "    \n",
    "    temp_initial_population = list()\n",
    "\n",
    "    while len(temp_initial_population) != count:\n",
    "        # 10 because we have 10 items\n",
    "        bits = [random.choice([0, 1]) for _ in range(10)]\n",
    "        temp_initial_population.append(bits)\n",
    "\n",
    "    return temp_initial_population"
   ]
  },
  {
   "cell_type": "code",
   "execution_count": 44,
   "metadata": {},
   "outputs": [],
   "source": [
    "def fitness(combination : list[int]):\n",
    "    \"\"\"\n",
    "    Fitness function\n",
    "    :param combination: list of 0 and 1, length 10\n",
    "    Does not take the whole population, accepts only a member of the population, i.e\n",
    "    a list of length 10 that has int value either 0 or 1\n",
    "    :return: fitness value\n",
    "    \"\"\"\n",
    "    \n",
    "    \n",
    "    total_value = sum([combination[_] * value[_] for _ in range(10)])\n",
    "\n",
    "    total_weight = sum([combination[_] * weight[_] for _ in range(10)])\n",
    "\n",
    "    if total_weight <= 35:\n",
    "        return total_value\n",
    "\n",
    "    else:\n",
    "        return total_weight - 35"
   ]
  },
  {
   "cell_type": "code",
   "execution_count": 45,
   "metadata": {},
   "outputs": [],
   "source": [
    "def selection(population: list[list[int]]):\n",
    "    \"\"\"\n",
    "    Selection function\n",
    "    :param population: list of population, accepts the whole population\n",
    "    RUNS fitness() FUNCTION ON EACH COMBINATION AND SORTS BY FITNESS\n",
    "    :return: selected parents\n",
    "    returns the top \"parents_length\" number of combinations as selected parents\n",
    "    \"\"\"\n",
    "    \n",
    "    parents = {}\n",
    "\n",
    "    for combination in population:\n",
    "        parents[fitness(combination)] = combination\n",
    "\n",
    "    sorted_parents = dict(sorted(parents.items(), key=lambda item: item[0], reverse=True))\n",
    "\n",
    "    return [value for key, value in list(sorted_parents.items())[:parent_length]]"
   ]
  },
  {
   "cell_type": "code",
   "execution_count": 46,
   "metadata": {},
   "outputs": [],
   "source": [
    "def crossover(population : list[list[int]]):\n",
    "    \"\"\"\n",
    "    One Point Crossover function\n",
    "    :param population: list of population, accepts the whole population\n",
    "    USES selection() FUNCTION TO SELECT PARENTS\n",
    "    :return: new population with selected parents and their children via crossover\n",
    "    \"\"\"\n",
    "    parents = selection(population)\n",
    "    N = len(parents[0])\n",
    "\n",
    "    while len(parents) != population_length:\n",
    "        val1 = random.randint(0, parent_length-1)\n",
    "        val2 = random.randint(0, parent_length-1)\n",
    "        child1 = parents[val1][0:N//2] + parents[val2][N//2:]\n",
    "        child2 = parents[val2][0:N//2] + parents[val1][N//2:]\n",
    "        parents.extend([child1, child2])\n",
    "    return parents"
   ]
  },
  {
   "cell_type": "code",
   "execution_count": 47,
   "metadata": {},
   "outputs": [],
   "source": [
    "def mutate(population: list[list[int]]):\n",
    "    \"\"\"\n",
    "    Mutation function\n",
    "    This will hold the whole population, mutated or not\n",
    "    Will use the same function to calculate the best fitness in the iteration\n",
    "    :param population: list of population, accepts the whole population\n",
    "    :return: new population with mutated children\n",
    "    \"\"\"\n",
    "    temp_mutated_population = []\n",
    "    temp_fitness = -1\n",
    "    temp_combination = []\n",
    "    \n",
    "    for combination in population:\n",
    "        for i in range(len(combination)):\n",
    "            if random.random() < 0.2:\n",
    "                combination[i] = 0 if combination[i] == 1 else 1\n",
    "        test_fitness = fitness(combination)\n",
    "        if test_fitness > temp_fitness:\n",
    "            temp_fitness = test_fitness\n",
    "            temp_combination = combination\n",
    "        temp_mutated_population.append(combination)\n",
    "    \n",
    "    return temp_mutated_population, temp_fitness, temp_combination"
   ]
  },
  {
   "cell_type": "code",
   "execution_count": 48,
   "metadata": {},
   "outputs": [
    {
     "name": "stdout",
     "output_type": "stream",
     "text": [
      "Population length: 30\n",
      "Initial population:\n",
      "[1, 1, 1, 0, 0, 1, 0, 1, 0, 0]\n",
      "[1, 0, 1, 0, 0, 1, 1, 1, 1, 1]\n",
      "[1, 1, 1, 0, 0, 1, 0, 1, 1, 1]\n",
      "[1, 1, 0, 0, 0, 0, 1, 0, 1, 1]\n",
      "[0, 1, 0, 1, 1, 1, 1, 0, 1, 0]\n",
      "[0, 1, 0, 1, 1, 0, 0, 0, 1, 1]\n",
      "[1, 0, 1, 0, 0, 1, 0, 1, 0, 1]\n",
      "[0, 1, 0, 1, 0, 1, 1, 0, 1, 0]\n",
      "[1, 1, 1, 1, 1, 1, 0, 0, 1, 0]\n",
      "[0, 1, 1, 0, 0, 0, 0, 1, 1, 0]\n",
      "[1, 0, 0, 1, 1, 0, 0, 0, 1, 0]\n",
      "[0, 1, 1, 1, 1, 1, 0, 1, 1, 1]\n",
      "[1, 0, 1, 1, 0, 1, 1, 0, 1, 1]\n",
      "[1, 1, 0, 1, 0, 1, 1, 0, 1, 1]\n",
      "[1, 1, 0, 1, 0, 1, 1, 1, 0, 1]\n",
      "[0, 1, 1, 1, 1, 0, 0, 0, 1, 0]\n",
      "[0, 1, 1, 0, 0, 1, 1, 0, 0, 0]\n",
      "[1, 0, 1, 0, 0, 1, 0, 1, 1, 0]\n",
      "[1, 0, 0, 1, 1, 1, 1, 0, 0, 0]\n",
      "[1, 1, 0, 1, 1, 1, 1, 0, 0, 0]\n",
      "[0, 1, 1, 1, 1, 1, 0, 1, 0, 0]\n",
      "[1, 0, 0, 1, 0, 1, 1, 0, 1, 1]\n",
      "[1, 0, 1, 1, 1, 0, 0, 0, 1, 0]\n",
      "[1, 1, 1, 1, 1, 0, 1, 1, 1, 0]\n",
      "[1, 1, 1, 0, 0, 0, 1, 0, 1, 1]\n",
      "[0, 1, 0, 1, 0, 0, 0, 1, 0, 0]\n",
      "[0, 1, 0, 1, 1, 1, 1, 0, 1, 0]\n",
      "[1, 1, 0, 0, 1, 1, 1, 0, 0, 1]\n",
      "[0, 0, 1, 0, 1, 0, 0, 1, 0, 0]\n",
      "[0, 0, 1, 1, 1, 0, 1, 0, 1, 1]\n"
     ]
    }
   ],
   "source": [
    "# declare the initial population\n",
    "population = generate_initial_population(population_length)\n",
    "# print the initial population\n",
    "print(f\"Population length: {population_length}\\nInitial population:\")\n",
    "for i in range(0, population_length):\n",
    "    print(population[i])"
   ]
  },
  {
   "cell_type": "code",
   "execution_count": 49,
   "metadata": {},
   "outputs": [
    {
     "name": "stdout",
     "output_type": "stream",
     "text": [
      "========================\n",
      "Iteration Number : 1\n",
      "Fitness Score : 384\n",
      "Combination : [1, 1, 1, 0, 0, 1, 1, 1, 0, 1]\n",
      "========================\n",
      "***********************\n",
      "Found same fitness as previous best fitness\n",
      "***********************\n",
      "========================\n",
      "Iteration Number : 2\n",
      "Fitness Score : 384\n",
      "Combination : [1, 1, 1, 0, 0, 1, 1, 1, 0, 1]\n",
      "========================\n",
      "========================\n",
      "Iteration Number : 3\n",
      "Fitness Score : 391\n",
      "Combination : [0, 1, 1, 0, 0, 1, 1, 1, 1, 1]\n",
      "========================\n",
      "========================\n",
      "Iteration Number : 4\n",
      "Fitness Score : 415\n",
      "Combination : [1, 1, 1, 1, 0, 1, 1, 0, 1, 1]\n",
      "========================\n",
      "========================\n",
      "Iteration Number : 7\n",
      "Fitness Score : 452\n",
      "Combination : [0, 1, 1, 1, 0, 1, 1, 1, 1, 1]\n",
      "========================\n",
      "***********************\n",
      "Found same fitness as previous best fitness\n",
      "***********************\n",
      "========================\n",
      "Iteration Number : 15\n",
      "Fitness Score : 452\n",
      "Combination : [0, 1, 1, 1, 0, 1, 1, 1, 1, 1]\n",
      "========================\n",
      "***********************\n",
      "Found same fitness as previous best fitness\n",
      "***********************\n",
      "***********************\n",
      "best combination matched, solution found\n",
      "***********************\n",
      "\n",
      "#############################################\n",
      "Iteration Number : 16\n",
      "Best Fitness : 452\n",
      "Best combination : [0, 1, 1, 1, 0, 1, 1, 1, 1, 1]\n",
      "#############################################\n"
     ]
    }
   ],
   "source": [
    "# GA loop\n",
    "iteration_number = 0\n",
    "fitenss_vals = []\n",
    "current_best_fitness_vals = []\n",
    "while True:\n",
    "    # crossover() function calls selection() function and selection() function calls fitness() function\n",
    "    # So function call flowchart is: generate_initial_population() -> fitness() -> selection() -> crossover() -> mutate()\n",
    "    population = crossover(population)\n",
    "    population, best_fitness_in_this_iteration, best_combinationin_this_iteration = mutate(population)\n",
    "    fitenss_vals.append(best_fitness_in_this_iteration)\n",
    "    iteration_number += 1\n",
    "    if best_fitness_in_this_iteration == current_best_fitness:\n",
    "        current_best_fitness_vals.append(best_fitness_in_this_iteration)\n",
    "        print(\"***********************\")\n",
    "        print(\"Found same fitness as previous best fitness\")\n",
    "        print(\"***********************\")\n",
    "        if current_best_combination == best_combinationin_this_iteration:\n",
    "            print(\"***********************\")\n",
    "            print(\"best combination matched, solution found\")\n",
    "            print(\"***********************\")\n",
    "            print()\n",
    "            print(\"#############################################\")\n",
    "            print(f\"Iteration Number : {iteration_number}\")\n",
    "            print(f\"Best Fitness : {current_best_fitness}\")\n",
    "            print(f\"Best combination : {current_best_combination}\")\n",
    "            print(\"#############################################\")\n",
    "            break\n",
    "        else:\n",
    "            current_best_combination = best_combinationin_this_iteration\n",
    "            print(\"========================\")\n",
    "            print(f\"Iteration Number : {iteration_number}\")\n",
    "            print(f\"Fitness Score : {best_fitness_in_this_iteration}\")\n",
    "            print(f\"Combination : {best_combinationin_this_iteration}\")\n",
    "            print(\"========================\")\n",
    "        \n",
    "    elif best_fitness_in_this_iteration > current_best_fitness:\n",
    "        current_best_fitness = best_fitness_in_this_iteration\n",
    "        current_best_fitness_vals.append(best_fitness_in_this_iteration)\n",
    "        current_best_combination = best_combinationin_this_iteration\n",
    "        print(\"========================\")\n",
    "        print(f\"Iteration Number : {iteration_number}\")\n",
    "        print(f\"Fitness Score : {best_fitness_in_this_iteration}\")\n",
    "        print(f\"Combination : {best_combinationin_this_iteration}\")\n",
    "        print(\"========================\")\n",
    "    else:\n",
    "        current_best_fitness_vals.append(current_best_fitness)\n",
    "    "
   ]
  },
  {
   "cell_type": "code",
   "execution_count": 50,
   "metadata": {},
   "outputs": [
    {
     "name": "stdout",
     "output_type": "stream",
     "text": [
      "Item 1 is selected with value 54 and weight 4\n",
      "Item 2 is selected with value 82 and weight 6\n",
      "Item 3 is selected with value 61 and weight 2\n",
      "Item 5 is selected with value 52 and weight 7\n",
      "Item 6 is selected with value 74 and weight 1\n",
      "Item 7 is selected with value 59 and weight 7\n",
      "Item 8 is selected with value 29 and weight 4\n",
      "Item 9 is selected with value 41 and weight 2\n",
      "-------------------------------------------------\n",
      "Total 8 items selected, total value 452 and total weight 33\n"
     ]
    }
   ],
   "source": [
    "num_of_items_selected = 0\n",
    "total_weight = 0\n",
    "total_value = 0\n",
    "for i in range(0, len(current_best_combination)):\n",
    "    if current_best_combination[i] == 1:\n",
    "        print(f\"Item {i} is selected with value {value[i]} and weight {weight[i]}\")\n",
    "        num_of_items_selected += 1\n",
    "        total_weight += weight[i]\n",
    "        total_value += value[i]\n",
    "print(\"-------------------------------------------------\")\n",
    "print(f\"Total {num_of_items_selected} items selected, total value {total_value} and total weight {total_weight}\")"
   ]
  },
  {
   "cell_type": "code",
   "execution_count": 51,
   "metadata": {},
   "outputs": [
    {
     "data": {
      "text/plain": [
       "Text(0, 0.5, 'Fitness Score')"
      ]
     },
     "execution_count": 51,
     "metadata": {},
     "output_type": "execute_result"
    },
    {
     "data": {
      "image/png": "[encoded data removed]",
      "text/plain": [
       "<Figure size 640x480 with 1 Axes>"
      ]
     },
     "metadata": {},
     "output_type": "display_data"
    }
   ],
   "source": [
    "# plot iteration_number vs iteration_fitness\n",
    "import matplotlib.pyplot as plt\n",
    "plt.plot([i for i in range(1, iteration_number+1)], fitenss_vals)\n",
    "plt.xlabel(\"Iteration Number\")\n",
    "plt.ylabel(\"Fitness Score\")"
   ]
  },
  {
   "cell_type": "code",
   "execution_count": 53,
   "metadata": {},
   "outputs": [
    {
     "data": {
      "text/plain": [
       "Text(0, 0.5, ' Best fitness Score')"
      ]
     },
     "execution_count": 53,
     "metadata": {},
     "output_type": "execute_result"
    },
    {
     "data": {
      "image/png": "[encoded data removed]",
      "text/plain": [
       "<Figure size 640x480 with 1 Axes>"
      ]
     },
     "metadata": {},
     "output_type": "display_data"
    }
   ],
   "source": [
    "# plot iteration_number vs iteration_fitness\n",
    "import matplotlib.pyplot as plt\n",
    "plt.plot([i for i in range(1, iteration_number+1)], current_best_fitness_vals)\n",
    "plt.xlabel(\"Iteration Number\")\n",
    "plt.ylabel(\" Best fitness Score\")"
   ]
  }
 ],
 "metadata": {
  "kernelspec": {
   "display_name": "Python 3",
   "language": "python",
   "name": "python3"
  },
  "language_info": {
   "codemirror_mode": {
    "name": "ipython",
    "version": 3
   },
   "file_extension": ".py",
   "mimetype": "text/x-python",
   "name": "python",
   "nbconvert_exporter": "python",
   "pygments_lexer": "ipython3",
   "version": "3.10.8"
  }
 },
 "nbformat": 4,
 "nbformat_minor": 2
}
