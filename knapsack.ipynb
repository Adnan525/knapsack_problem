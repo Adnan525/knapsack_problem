{
 "cells": [
  {
   "cell_type": "code",
   "execution_count": 55,
   "id": "f1e4173b",
   "metadata": {},
   "outputs": [],
   "source": [
    "population = []\n",
    "current_best_fitness = -1"
   ]
  },
  {
   "cell_type": "code",
   "execution_count": 56,
   "id": "fda589fb",
   "metadata": {},
   "outputs": [
    {
     "data": {
      "text/plain": [
       "([5, 6, 7, 8, 9, 10, 11, 12, 13, 14],\n",
       " [100, 200, 300, 400, 500, 600, 700, 800, 900, 1000])"
      ]
     },
     "execution_count": 56,
     "metadata": {},
     "output_type": "execute_result"
    }
   ],
   "source": [
    "weight = list(range(5,15))\n",
    "value = list(range(100, 1001, 100))\n",
    "weight, value"
   ]
  },
  {
   "cell_type": "code",
   "execution_count": 57,
   "id": "b5d5745c",
   "metadata": {},
   "outputs": [],
   "source": [
    "import random\n",
    "\n",
    "def generate_initial_population(count : int = 50):\n",
    "    population = list()\n",
    "\n",
    "    while len(population) != count:\n",
    "        bits = [random.choice([0, 1]) for _ in range(10)]\n",
    "        population.append(bits)\n",
    "\n",
    "    return population"
   ]
  },
  {
   "cell_type": "code",
   "execution_count": 58,
   "id": "496f1ef0",
   "metadata": {},
   "outputs": [],
   "source": [
    "def fitness(combination : list[int]):\n",
    "    total_value = sum([combination[_] * value[_] for _ in range(10)])\n",
    "\n",
    "    total_weight = sum([combination[_] * weight[_] for _ in range(10)])\n",
    "\n",
    "    if total_weight <= 35:\n",
    "        return total_value #value of the current population\n",
    "\n",
    "    else:\n",
    "      return total_weight - 35"
   ]
  },
  {
   "cell_type": "code",
   "execution_count": 59,
   "id": "1c64bb83",
   "metadata": {},
   "outputs": [],
   "source": [
    "def selection(population: list[list[int]]):\n",
    "    parents = {}\n",
    "\n",
    "    for combination in population:\n",
    "      parents[fitness(combination)] = combination\n",
    "\n",
    "    sorted_parents = dict(sorted(parents.items(), key=lambda item: item[0], reverse=True))\n",
    "\n",
    "    return [value for key, value in list(sorted_parents.items())[:20]]"
   ]
  },
  {
   "cell_type": "code",
   "execution_count": 60,
   "id": "e54a219c",
   "metadata": {},
   "outputs": [],
   "source": [
    "def crossover(population : list[list[int]]):\n",
    "    parents = selection(population)\n",
    "    N = len(parents[0])\n",
    "\n",
    "    while len(parents) != 50:\n",
    "      val1 = random.randint(0, 20)\n",
    "      val2 = random.randint(0, 20)\n",
    "      child1 = parents[val1][0:N//2] + parents[val2][N//2:]\n",
    "      child2 = parents[val2][0:N//2] + parents[val1][N//2:]\n",
    "      parents.extend([child1, child2])\n",
    "\n",
    "    return parents"
   ]
  },
  {
   "cell_type": "code",
   "execution_count": 76,
   "id": "db429665",
   "metadata": {},
   "outputs": [],
   "source": [
    "def mutate(population: list[list[int]]):\n",
    "    temp_mutated_population = []\n",
    "    for combination in population:\n",
    "        for i in range(len(combination)):\n",
    "            if random.random() < 0.2:\n",
    "                combination[i] = combination[i]\n",
    "            temp_mutated_population.append(combination)\n",
    "    \n",
    "    retunr temp_mutated_population"
   ]
  },
  {
   "cell_type": "code",
   "execution_count": 62,
   "id": "a7e549cc",
   "metadata": {},
   "outputs": [],
   "source": [
    "def get_current_best_fitness(population : list[list[int]]):\n",
    "    temp_fitness = -1\n",
    "    temp_combination = []\n",
    "    for combination in population:\n",
    "        temp = fitness(combination)\n",
    "        if temp > temp_fitness:\n",
    "            temp_fitness = temp\n",
    "            temp_combination = combination\n",
    "    return temp_fitness, temp_combination"
   ]
  },
  {
   "cell_type": "code",
   "execution_count": 69,
   "id": "85a96867",
   "metadata": {},
   "outputs": [
    {
     "data": {
      "text/plain": [
       "[[0, 0, 1, 1, 0, 0, 1, 1, 1, 0],\n",
       " [1, 0, 0, 1, 1, 0, 1, 1, 1, 0],\n",
       " [0, 1, 0, 0, 1, 0, 1, 1, 0, 1],\n",
       " [0, 1, 0, 0, 0, 0, 0, 0, 0, 0],\n",
       " [0, 0, 1, 1, 0, 1, 0, 0, 0, 1],\n",
       " [1, 1, 0, 1, 1, 1, 0, 1, 0, 0],\n",
       " [0, 1, 1, 1, 0, 1, 0, 1, 0, 0],\n",
       " [0, 0, 0, 0, 1, 1, 0, 0, 0, 0],\n",
       " [0, 1, 0, 1, 1, 0, 1, 0, 1, 0],\n",
       " [0, 0, 0, 0, 1, 0, 0, 0, 1, 0],\n",
       " [0, 0, 0, 0, 1, 1, 0, 0, 1, 1],\n",
       " [1, 0, 0, 0, 1, 1, 1, 0, 1, 0],\n",
       " [0, 0, 0, 0, 0, 1, 1, 0, 1, 0],\n",
       " [0, 0, 0, 1, 1, 1, 0, 0, 1, 1],\n",
       " [1, 0, 1, 1, 1, 0, 1, 0, 1, 0],\n",
       " [1, 1, 0, 1, 0, 0, 0, 1, 0, 0],\n",
       " [0, 0, 0, 1, 1, 1, 0, 0, 1, 0],\n",
       " [0, 0, 0, 1, 1, 1, 1, 0, 0, 1],\n",
       " [1, 1, 0, 0, 0, 0, 0, 0, 1, 0],\n",
       " [0, 0, 0, 0, 0, 1, 0, 1, 1, 1],\n",
       " [1, 0, 1, 0, 0, 0, 1, 1, 1, 1],\n",
       " [1, 0, 0, 0, 0, 0, 1, 0, 0, 1],\n",
       " [0, 0, 1, 1, 0, 1, 1, 1, 0, 1],\n",
       " [1, 0, 0, 1, 1, 1, 0, 1, 1, 0],\n",
       " [1, 1, 1, 1, 0, 0, 0, 0, 0, 1],\n",
       " [0, 0, 1, 0, 0, 0, 1, 1, 0, 0],\n",
       " [0, 0, 0, 1, 1, 0, 0, 1, 1, 1],\n",
       " [1, 0, 1, 1, 1, 1, 0, 1, 1, 1],\n",
       " [1, 0, 0, 1, 0, 0, 1, 1, 1, 1],\n",
       " [0, 1, 0, 0, 0, 1, 1, 1, 0, 0],\n",
       " [1, 1, 1, 0, 1, 0, 1, 1, 1, 0],\n",
       " [1, 0, 0, 0, 0, 0, 1, 1, 1, 1],\n",
       " [0, 1, 1, 0, 1, 0, 1, 1, 1, 1],\n",
       " [0, 0, 0, 1, 1, 0, 0, 0, 0, 0],\n",
       " [0, 1, 1, 0, 1, 0, 1, 1, 0, 1],\n",
       " [1, 0, 0, 1, 0, 1, 1, 1, 0, 0],\n",
       " [0, 1, 0, 1, 0, 1, 0, 0, 0, 0],\n",
       " [0, 0, 0, 1, 0, 0, 1, 1, 1, 1],\n",
       " [0, 1, 0, 1, 0, 0, 1, 0, 1, 0],\n",
       " [0, 0, 1, 1, 1, 0, 1, 0, 1, 0],\n",
       " [0, 0, 1, 0, 0, 0, 0, 1, 1, 0],\n",
       " [1, 1, 0, 0, 1, 1, 0, 1, 1, 0],\n",
       " [0, 1, 0, 0, 1, 1, 1, 1, 1, 0],\n",
       " [1, 1, 0, 1, 1, 0, 1, 1, 0, 1],\n",
       " [0, 0, 0, 1, 1, 0, 0, 0, 1, 0],\n",
       " [0, 0, 1, 0, 1, 1, 1, 1, 1, 0],\n",
       " [0, 0, 1, 1, 1, 0, 0, 0, 1, 1],\n",
       " [1, 1, 0, 0, 0, 1, 1, 0, 0, 1],\n",
       " [0, 1, 0, 0, 0, 1, 0, 0, 1, 0],\n",
       " [1, 0, 0, 1, 0, 1, 0, 0, 0, 0]]"
      ]
     },
     "execution_count": 69,
     "metadata": {},
     "output_type": "execute_result"
    }
   ],
   "source": [
    "population = generate_initial_population()\n",
    "population"
   ]
  },
  {
   "cell_type": "code",
   "execution_count": 71,
   "id": "24c3f2ad",
   "metadata": {},
   "outputs": [
    {
     "name": "stdout",
     "output_type": "stream",
     "text": [
      "16\n",
      "23\n",
      "17\n",
      "200\n",
      "4\n",
      "15\n",
      "8\n",
      "1100\n",
      "12\n",
      "1400\n",
      "11\n",
      "13\n",
      "2200\n",
      "19\n",
      "18\n",
      "1500\n",
      "5\n",
      "17\n",
      "1200\n",
      "14\n",
      "27\n",
      "1800\n",
      "27\n",
      "22\n",
      "5\n",
      "1800\n",
      "21\n",
      "43\n",
      "28\n",
      "4\n",
      "28\n",
      "20\n",
      "37\n",
      "900\n",
      "24\n",
      "11\n",
      "1200\n",
      "23\n",
      "3\n",
      "13\n",
      "2000\n",
      "20\n",
      "26\n",
      "30\n",
      "1800\n",
      "27\n",
      "16\n",
      "11\n",
      "1700\n",
      "1100\n"
     ]
    }
   ],
   "source": [
    "for _ in population:\n",
    "    print(fitness(_))"
   ]
  },
  {
   "cell_type": "code",
   "execution_count": 73,
   "id": "966b2e0a",
   "metadata": {},
   "outputs": [
    {
     "data": {
      "text/plain": [
       "[[0, 0, 0, 0, 0, 1, 1, 0, 1, 0],\n",
       " [0, 0, 1, 0, 0, 0, 0, 1, 1, 0],\n",
       " [0, 0, 0, 1, 1, 0, 0, 0, 1, 0],\n",
       " [0, 1, 0, 0, 0, 1, 0, 0, 1, 0],\n",
       " [1, 1, 0, 1, 0, 0, 0, 1, 0, 0],\n",
       " [0, 0, 0, 0, 1, 0, 0, 0, 1, 0],\n",
       " [0, 1, 0, 1, 0, 1, 0, 0, 0, 0],\n",
       " [1, 0, 0, 1, 0, 1, 0, 0, 0, 0],\n",
       " [0, 0, 0, 1, 1, 0, 0, 0, 0, 0],\n",
       " [0, 1, 0, 0, 0, 0, 0, 0, 0, 0],\n",
       " [1, 0, 1, 1, 1, 1, 0, 1, 1, 1],\n",
       " [0, 1, 1, 0, 1, 0, 1, 1, 1, 1],\n",
       " [1, 1, 0, 1, 1, 0, 1, 1, 0, 1],\n",
       " [1, 1, 1, 0, 1, 0, 1, 1, 1, 0],\n",
       " [0, 0, 1, 0, 1, 1, 1, 1, 1, 0],\n",
       " [0, 1, 0, 0, 1, 1, 1, 1, 1, 0],\n",
       " [0, 1, 1, 0, 1, 0, 1, 1, 0, 1],\n",
       " [0, 0, 0, 1, 0, 0, 1, 1, 1, 1],\n",
       " [1, 0, 0, 1, 1, 1, 0, 1, 1, 0],\n",
       " [0, 0, 0, 1, 1, 0, 0, 1, 1, 1]]"
      ]
     },
     "execution_count": 73,
     "metadata": {},
     "output_type": "execute_result"
    }
   ],
   "source": [
    "parents_20 = selection(population)\n",
    "parents_20"
   ]
  },
  {
   "cell_type": "code",
   "execution_count": 78,
   "id": "a81d7197",
   "metadata": {},
   "outputs": [
    {
     "data": {
      "text/plain": [
       "[[0, 0, 0, 0, 0, 1, 1, 0, 1, 0],\n",
       " [1, 1, 0, 0, 0, 1, 0, 0, 1, 0],\n",
       " [1, 1, 0, 0, 0, 0, 0, 0, 1, 0],\n",
       " [0, 0, 0, 0, 1, 1, 0, 0, 0, 0],\n",
       " [1, 1, 0, 0, 0, 0, 0, 0, 0, 0],\n",
       " [0, 1, 2, 0, 2, 0, 2, 2, 1, 1],\n",
       " [1, 2, 0, 1, 1, 1, 1, 1, 1, 1],\n",
       " [1, 0, 2, 2, 1, 1, 0, 1, 1, 1],\n",
       " [0, 1, 0, 0, 1, 1, 1, 1, 2, 1],\n",
       " [1, 1, 1, 0, 1, 1, 1, 1, 1, 1],\n",
       " [1, 1, 0, 2, 1, 1, 0, 2, 1, 0],\n",
       " [1, 0, 0, 2, 1, 0, 0, 1, 2, 1],\n",
       " [0, 0, 1, 1, 0, 0, 1, 1, 2, 1],\n",
       " [1, 0, 1, 0, 1, 2, 1, 1, 1, 0],\n",
       " [0, 1, 1, 0, 1, 0, 1, 2, 0, 1],\n",
       " [1, 0, 0, 1, 0, 0, 1, 1, 1, 1],\n",
       " [0, 0, 1, 1, 0, 1, 1, 1, 0, 1],\n",
       " [1, 0, 0, 1, 1, 0, 1, 1, 1, 0],\n",
       " [1, 0, 1, 1, 0, 1, 0, 0, 1, 1],\n",
       " [1, 1, 0, 0, 1, 1, 0, 1, 1, 0],\n",
       " [0, 1, 2, 0, 2, 1, 0, 1, 1, 0],\n",
       " [1, 1, 0, 0, 1, 0, 2, 2, 1, 1],\n",
       " [1, 1, 0, 0, 0, 0, 1, 1, 1, 0],\n",
       " [1, 0, 0, 1, 1, 0, 0, 0, 1, 0],\n",
       " [0, 0, 1, 1, 0, 1, 0, 0, 1, 1],\n",
       " [1, 0, 1, 1, 0, 1, 1, 1, 0, 1],\n",
       " [1, 1, 0, 2, 1, 0, 2, 2, 1, 1],\n",
       " [0, 1, 2, 0, 2, 1, 0, 2, 1, 0],\n",
       " [1, 1, 1, 0, 1, 1, 1, 1, 2, 1],\n",
       " [0, 1, 0, 0, 1, 1, 1, 1, 1, 1],\n",
       " [1, 1, 0, 0, 0, 1, 1, 1, 1, 1],\n",
       " [1, 2, 0, 1, 1, 0, 0, 0, 0, 0],\n",
       " [1, 1, 0, 0, 0, 1, 0, 1, 1, 0],\n",
       " [0, 1, 2, 0, 2, 0, 0, 0, 1, 0],\n",
       " [0, 0, 1, 1, 0, 1, 1, 1, 1, 1],\n",
       " [1, 1, 1, 0, 1, 0, 1, 1, 2, 1],\n",
       " [0, 1, 2, 0, 2, 0, 0, 1, 2, 1],\n",
       " [1, 0, 0, 2, 1, 0, 2, 2, 1, 1],\n",
       " [1, 0, 0, 1, 1, 0, 1, 1, 1, 1],\n",
       " [1, 0, 0, 1, 0, 0, 1, 1, 1, 0],\n",
       " [1, 1, 0, 0, 1, 0, 1, 2, 0, 1],\n",
       " [0, 1, 1, 0, 1, 1, 0, 1, 1, 0],\n",
       " [0, 1, 2, 0, 2, 0, 1, 2, 0, 1],\n",
       " [0, 1, 1, 0, 1, 1, 0, 1, 1, 0],\n",
       " [1, 1, 0, 0, 0, 0, 2, 2, 1, 1],\n",
       " [0, 1, 2, 0, 2, 0, 0, 0, 0, 0],\n",
       " [0, 1, 1, 0, 1, 1, 0, 1, 1, 0],\n",
       " [1, 1, 0, 0, 1, 0, 1, 2, 0, 1],\n",
       " [0, 1, 2, 0, 2, 1, 0, 2, 1, 0],\n",
       " [1, 1, 0, 2, 1, 0, 2, 2, 1, 1]]"
      ]
     },
     "execution_count": 78,
     "metadata": {},
     "output_type": "execute_result"
    }
   ],
   "source": [
    "after_crossover = crossover(population)\n",
    "after_crossover"
   ]
  },
  {
   "cell_type": "code",
   "execution_count": 80,
   "id": "edea54be",
   "metadata": {},
   "outputs": [
    {
     "data": {
      "text/plain": [
       "[[0, 0, 0, 0, 0, 1, 1, 0, 1, 0],\n",
       " [1, 1, 0, 0, 0, 1, 0, 0, 1, 0],\n",
       " [1, 1, 0, 0, 0, 0, 0, 0, 1, 0],\n",
       " [0, 0, 0, 0, 1, 1, 0, 0, 0, 0],\n",
       " [1, 1, 0, 0, 0, 0, 0, 0, 0, 0],\n",
       " [0, 1, 2, 0, 2, 0, 2, 2, 1, 1],\n",
       " [1, 2, 0, 1, 1, 1, 1, 1, 1, 1],\n",
       " [1, 0, 2, 2, 1, 1, 0, 1, 1, 1],\n",
       " [0, 1, 0, 0, 1, 1, 1, 1, 2, 1],\n",
       " [1, 1, 1, 0, 1, 1, 1, 1, 1, 1],\n",
       " [1, 1, 0, 2, 1, 1, 0, 2, 1, 0],\n",
       " [1, 0, 0, 2, 1, 0, 0, 1, 2, 1],\n",
       " [0, 0, 1, 1, 0, 0, 1, 1, 2, 1],\n",
       " [1, 0, 1, 0, 1, 2, 1, 1, 1, 0],\n",
       " [0, 1, 1, 0, 1, 0, 1, 2, 0, 1],\n",
       " [1, 0, 0, 1, 0, 0, 1, 1, 1, 1],\n",
       " [0, 0, 1, 1, 0, 1, 1, 1, 0, 1],\n",
       " [1, 0, 0, 1, 1, 0, 1, 1, 1, 0],\n",
       " [1, 0, 1, 1, 0, 1, 0, 0, 1, 1],\n",
       " [1, 1, 0, 0, 1, 1, 0, 1, 1, 0],\n",
       " [0, 1, 2, 0, 2, 1, 0, 1, 1, 0],\n",
       " [1, 1, 0, 0, 1, 0, 2, 2, 1, 1],\n",
       " [1, 1, 0, 0, 0, 0, 1, 1, 1, 0],\n",
       " [1, 0, 0, 1, 1, 0, 0, 0, 1, 0],\n",
       " [0, 0, 1, 1, 0, 1, 0, 0, 1, 1],\n",
       " [1, 0, 1, 1, 0, 1, 1, 1, 0, 1],\n",
       " [1, 1, 0, 2, 1, 0, 2, 2, 1, 1],\n",
       " [0, 1, 2, 0, 2, 1, 0, 2, 1, 0],\n",
       " [1, 1, 1, 0, 1, 1, 1, 1, 2, 1],\n",
       " [0, 1, 0, 0, 1, 1, 1, 1, 1, 1],\n",
       " [1, 1, 0, 0, 0, 1, 1, 1, 1, 1],\n",
       " [1, 2, 0, 1, 1, 0, 0, 0, 0, 0],\n",
       " [1, 1, 0, 0, 0, 1, 0, 1, 1, 0],\n",
       " [0, 1, 2, 0, 2, 0, 0, 0, 1, 0],\n",
       " [0, 0, 1, 1, 0, 1, 1, 1, 1, 1],\n",
       " [1, 1, 1, 0, 1, 0, 1, 1, 2, 1],\n",
       " [0, 1, 2, 0, 2, 0, 0, 1, 2, 1],\n",
       " [1, 0, 0, 2, 1, 0, 2, 2, 1, 1],\n",
       " [1, 0, 0, 1, 1, 0, 1, 1, 1, 1],\n",
       " [1, 0, 0, 1, 0, 0, 1, 1, 1, 0],\n",
       " [1, 1, 0, 0, 1, 0, 1, 2, 0, 1],\n",
       " [0, 1, 1, 0, 1, 1, 0, 1, 1, 0],\n",
       " [0, 1, 2, 0, 2, 0, 1, 2, 0, 1],\n",
       " [0, 1, 1, 0, 1, 1, 0, 1, 1, 0],\n",
       " [1, 1, 0, 0, 0, 0, 2, 2, 1, 1],\n",
       " [0, 1, 2, 0, 2, 0, 0, 0, 0, 0],\n",
       " [0, 1, 1, 0, 1, 1, 0, 1, 1, 0],\n",
       " [1, 1, 0, 0, 1, 0, 1, 2, 0, 1],\n",
       " [0, 1, 2, 0, 2, 1, 0, 2, 1, 0],\n",
       " [1, 1, 0, 2, 1, 0, 2, 2, 1, 1]]"
      ]
     },
     "execution_count": 80,
     "metadata": {},
     "output_type": "execute_result"
    }
   ],
   "source": [
    "mutate(after_crossover)\n",
    "after_crossover"
   ]
  },
  {
   "cell_type": "code",
   "execution_count": 67,
   "id": "899c847f",
   "metadata": {},
   "outputs": [
    {
     "name": "stdout",
     "output_type": "stream",
     "text": [
      "None\n"
     ]
    },
    {
     "ename": "TypeError",
     "evalue": "'NoneType' object is not iterable",
     "output_type": "error",
     "traceback": [
      "\u001b[1;31m---------------------------------------------------------------------------\u001b[0m",
      "\u001b[1;31mTypeError\u001b[0m                                 Traceback (most recent call last)",
      "Cell \u001b[1;32mIn[67], line 5\u001b[0m\n\u001b[0;32m      3\u001b[0m population \u001b[38;5;241m=\u001b[39m mutate(population)\n\u001b[0;32m      4\u001b[0m \u001b[38;5;28mprint\u001b[39m(population)\n\u001b[1;32m----> 5\u001b[0m fitness_in_this_iteration, best_combination \u001b[38;5;241m=\u001b[39m get_current_best_fitness(population)\n\u001b[0;32m      6\u001b[0m \u001b[38;5;28;01mif\u001b[39;00m fitness_in_this_iteration \u001b[38;5;241m==\u001b[39m current_best_fitness:\n\u001b[0;32m      7\u001b[0m     \u001b[38;5;28;01mbreak\u001b[39;00m\n",
      "Cell \u001b[1;32mIn[62], line 4\u001b[0m, in \u001b[0;36mget_current_best_fitness\u001b[1;34m(population)\u001b[0m\n\u001b[0;32m      2\u001b[0m temp_fitness \u001b[38;5;241m=\u001b[39m \u001b[38;5;241m-\u001b[39m\u001b[38;5;241m1\u001b[39m\n\u001b[0;32m      3\u001b[0m temp_combination \u001b[38;5;241m=\u001b[39m []\n\u001b[1;32m----> 4\u001b[0m \u001b[38;5;28;01mfor\u001b[39;00m combination \u001b[38;5;129;01min\u001b[39;00m population:\n\u001b[0;32m      5\u001b[0m     temp \u001b[38;5;241m=\u001b[39m fitness(combination)\n\u001b[0;32m      6\u001b[0m     \u001b[38;5;28;01mif\u001b[39;00m temp \u001b[38;5;241m>\u001b[39m temp_fitness:\n",
      "\u001b[1;31mTypeError\u001b[0m: 'NoneType' object is not iterable"
     ]
    }
   ],
   "source": [
    "while True:\n",
    "    population = crossover(population)\n",
    "    population = mutate(population)\n",
    "    print(population)\n",
    "    fitness_in_this_iteration, best_combination = get_current_best_fitness(population)\n",
    "    if fitness_in_this_iteration == current_best_fitness:\n",
    "        break\n",
    "    if fitness_in_this_iteration > current_best_fitness:\n",
    "        current_best_fitness = fitness_in_this_iteration\n",
    "        print(\"========================\")\n",
    "        print(f\"Fitness Score : {fitness_in_this_iteration}\")\n",
    "        print(f\"Combination : {best_combination}\")\n",
    "        print(\"========================\")\n",
    "    "
   ]
  },
  {
   "cell_type": "code",
   "execution_count": null,
   "id": "7fc5b3f6",
   "metadata": {},
   "outputs": [],
   "source": []
  }
 ],
 "metadata": {
  "kernelspec": {
   "display_name": "Python 3 (ipykernel)",
   "language": "python",
   "name": "python3"
  },
  "language_info": {
   "codemirror_mode": {
    "name": "ipython",
    "version": 3
   },
   "file_extension": ".py",
   "mimetype": "text/x-python",
   "name": "python",
   "nbconvert_exporter": "python",
   "pygments_lexer": "ipython3",
   "version": "3.11.4"
  }
 },
 "nbformat": 4,
 "nbformat_minor": 5
}
