{
 "cells": [
  {
   "cell_type": "code",
   "execution_count": 1,
   "id": "cc3e6ee1",
   "metadata": {},
   "outputs": [],
   "source": [
    "population = []"
   ]
  },
  {
   "cell_type": "code",
   "execution_count": 3,
   "id": "76b8ecfd",
   "metadata": {},
   "outputs": [
    {
     "data": {
      "text/plain": [
       "([5, 6, 7, 8, 9, 10, 11, 12, 13, 14],\n",
       " [100, 200, 300, 400, 500, 600, 700, 800, 900, 1000])"
      ]
     },
     "execution_count": 3,
     "metadata": {},
     "output_type": "execute_result"
    }
   ],
   "source": [
    "weight = list(range(5,15))\n",
    "value = list(range(100, 1001, 100))\n",
    "weight, value"
   ]
  },
  {
   "cell_type": "code",
   "execution_count": 2,
   "id": "b92e648f",
   "metadata": {},
   "outputs": [],
   "source": [
    "import random\n",
    "\n",
    "def generate_initial_population(count : int = 50):\n",
    "    population = list()\n",
    "\n",
    "    while len(population) != count:\n",
    "        bits = [random.choice([0, 1]) for _ in range(10)]\n",
    "        population.append(bits)\n",
    "\n",
    "    return population"
   ]
  },
  {
   "cell_type": "code",
   "execution_count": 4,
   "id": "37ea98e4",
   "metadata": {},
   "outputs": [],
   "source": [
    "def fitness(combination : list[int]):\n",
    "    total_value = sum([combination[_] * value[_] for _ in range(10)])\n",
    "\n",
    "    total_weight = sum([combination[_] * weight[_] for _ in range(10)])\n",
    "\n",
    "    if total_weight <= 35:\n",
    "        return total_value #value of the current population\n",
    "\n",
    "    else:\n",
    "      return total_weight - 35"
   ]
  },
  {
   "cell_type": "code",
   "execution_count": 5,
   "id": "529a2d94",
   "metadata": {},
   "outputs": [],
   "source": [
    "def selection(population: list[list[int]]):\n",
    "    parents = {}\n",
    "\n",
    "    for combination in population:\n",
    "      parents[fitness(combination)] = combination\n",
    "\n",
    "    sorted_parents = dict(sorted(parents.items(), key=lambda item: item[0], reverse=True))\n",
    "\n",
    "    return [value for key, value in list(sorted_parents.items())[:20]]"
   ]
  },
  {
   "cell_type": "code",
   "execution_count": 6,
   "id": "cc3f8229",
   "metadata": {},
   "outputs": [],
   "source": [
    "def crossover(parents: list[list[int]]):\n",
    "    population = selection(population)\n",
    "    N = len(parents[0])\n",
    "\n",
    "    while len(population) != 50:\n",
    "      val1 = random.randint(0, 50)\n",
    "      val2 = random.randint(0, 50)\n",
    "      child1 = parents[val1][0:N//2] + parents[val2][N//2:]\n",
    "      child2 = parents[val2][0:N//2] + parents[val1][N//2:]\n",
    "      population.extend([child1, child2])\n",
    "\n",
    "    return population"
   ]
  },
  {
   "cell_type": "code",
   "execution_count": 10,
   "id": "614e5a9e",
   "metadata": {},
   "outputs": [],
   "source": [
    "def mutate(individuals: list[list[int]]):\n",
    "    for individual in individuals:\n",
    "        for i in range(len(individual)):\n",
    "            if random.random() < 0.2:\n",
    "                individual[i] = abs(~individual[i])"
   ]
  },
  {
   "cell_type": "code",
   "execution_count": 11,
   "id": "7e559c7a",
   "metadata": {},
   "outputs": [],
   "source": [
    "population = generate_initial_population()"
   ]
  },
  {
   "cell_type": "code",
   "execution_count": null,
   "id": "c422a631",
   "metadata": {},
   "outputs": [],
   "source": [
    "while True:\n",
    "    population = crossover(population)\n",
    "    \n",
    "    "
   ]
  },
  {
   "cell_type": "code",
   "execution_count": null,
   "id": "731f36ea",
   "metadata": {},
   "outputs": [],
   "source": [
    "def solve_knapsack() -> Individual:\n",
    "    population = generate_initial_population()\n",
    "\n",
    "    avg_fitnesses = []\n",
    "\n",
    "    for _ in range(500):\n",
    "        avg_fitnesses.append(average_fitness(population))\n",
    "        population = next_generation(population)\n",
    "\n",
    "    population = sorted(population, key=lambda i: i.fitness(), reverse=True)\n",
    "    return population[0]"
   ]
  }
 ],
 "metadata": {
  "kernelspec": {
   "display_name": "Python 3 (ipykernel)",
   "language": "python",
   "name": "python3"
  },
  "language_info": {
   "codemirror_mode": {
    "name": "ipython",
    "version": 3
   },
   "file_extension": ".py",
   "mimetype": "text/x-python",
   "name": "python",
   "nbconvert_exporter": "python",
   "pygments_lexer": "ipython3",
   "version": "3.11.4"
  }
 },
 "nbformat": 4,
 "nbformat_minor": 5
}
