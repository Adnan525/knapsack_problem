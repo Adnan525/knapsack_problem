{
 "cells": [
  {
   "cell_type": "code",
   "execution_count": 129,
   "id": "a73a6b12",
   "metadata": {},
   "outputs": [],
   "source": [
    "population = []\n",
    "current_best_fitness = -1"
   ]
  },
  {
   "cell_type": "code",
   "execution_count": 130,
   "id": "9de9fa04",
   "metadata": {},
   "outputs": [
    {
     "data": {
      "text/plain": [
       "([5, 6, 7, 8, 9, 10, 11, 12, 13, 14],\n",
       " [100, 200, 300, 400, 500, 600, 700, 800, 900, 1000])"
      ]
     },
     "execution_count": 130,
     "metadata": {},
     "output_type": "execute_result"
    }
   ],
   "source": [
    "weight = list(range(5,15))\n",
    "value = list(range(100, 1001, 100))\n",
    "weight, value"
   ]
  },
  {
   "cell_type": "code",
   "execution_count": 131,
   "id": "13ff8df5",
   "metadata": {},
   "outputs": [],
   "source": [
    "import random\n",
    "\n",
    "def generate_initial_population(count : int = 50):\n",
    "    population = list()\n",
    "\n",
    "    while len(population) != count:\n",
    "        bits = [random.choice([0, 1]) for _ in range(10)]\n",
    "        population.append(bits)\n",
    "\n",
    "    return population"
   ]
  },
  {
   "cell_type": "code",
   "execution_count": 132,
   "id": "858cf6d8",
   "metadata": {},
   "outputs": [],
   "source": [
    "def fitness(combination : list[int]):\n",
    "    total_value = sum([combination[_] * value[_] for _ in range(10)])\n",
    "\n",
    "    total_weight = sum([combination[_] * weight[_] for _ in range(10)])\n",
    "\n",
    "    if total_weight <= 35:\n",
    "        return total_value #value of the current population\n",
    "\n",
    "    else:\n",
    "      return total_weight - 35"
   ]
  },
  {
   "cell_type": "code",
   "execution_count": 133,
   "id": "563187a5",
   "metadata": {},
   "outputs": [],
   "source": [
    "def selection(population: list[list[int]]):\n",
    "    parents = {}\n",
    "\n",
    "    for combination in population:\n",
    "      parents[fitness(combination)] = combination\n",
    "\n",
    "    sorted_parents = dict(sorted(parents.items(), key=lambda item: item[0], reverse=True))\n",
    "\n",
    "    return [value for key, value in list(sorted_parents.items())[:20]]"
   ]
  },
  {
   "cell_type": "code",
   "execution_count": 134,
   "id": "5892a0fd",
   "metadata": {},
   "outputs": [],
   "source": [
    "def crossover(population : list[list[int]]):\n",
    "    parents = selection(population)\n",
    "    N = len(parents[0])\n",
    "\n",
    "    while len(parents) != 50:\n",
    "        val1 = random.randint(0, 15)\n",
    "        val2 = random.randint(0, 15)\n",
    "        child1 = parents[val1][0:N//2] + parents[val2][N//2:]\n",
    "        child2 = parents[val2][0:N//2] + parents[val1][N//2:]\n",
    "        parents.extend([child1, child2])\n",
    "#         print(\"========================\")\n",
    "#         print(val1)\n",
    "#         print(val2)\n",
    "#         print(parents[val1])\n",
    "#         print(parents[val2])\n",
    "#         print(child1)\n",
    "#         print(child2)\n",
    "#         print(\"========================\")\n",
    "\n",
    "    return parents"
   ]
  },
  {
   "cell_type": "code",
   "execution_count": 135,
   "id": "00dfbdc8",
   "metadata": {},
   "outputs": [],
   "source": [
    "def mutate(population: list[list[int]]):\n",
    "    temp_mutated_population = []\n",
    "    for combination in population:\n",
    "        for i in range(len(combination)):\n",
    "            if random.random() < 0.2:\n",
    "                combination[i] = 0 if combination[i] == 1 else 1\n",
    "        temp_mutated_population.append(combination)\n",
    "    \n",
    "    return temp_mutated_population"
   ]
  },
  {
   "cell_type": "code",
   "execution_count": 136,
   "id": "4669e9f1",
   "metadata": {},
   "outputs": [],
   "source": [
    "def get_current_best_fitness(population : list[list[int]]):\n",
    "    temp_fitness = -1\n",
    "    temp_combination = []\n",
    "    for combination in population:\n",
    "        temp = fitness(combination)\n",
    "        if temp > temp_fitness:\n",
    "            temp_fitness = temp\n",
    "            temp_combination = combination\n",
    "    return temp_fitness, temp_combination"
   ]
  },
  {
   "cell_type": "code",
   "execution_count": 137,
   "id": "75ac917c",
   "metadata": {},
   "outputs": [
    {
     "data": {
      "text/plain": [
       "[[1, 1, 1, 1, 1, 0, 1, 0, 0, 0],\n",
       " [1, 1, 0, 0, 0, 0, 0, 0, 1, 1],\n",
       " [1, 1, 1, 1, 1, 1, 0, 0, 1, 0],\n",
       " [1, 1, 0, 0, 1, 0, 1, 1, 1, 1],\n",
       " [1, 0, 0, 1, 1, 0, 1, 1, 1, 0],\n",
       " [1, 0, 1, 0, 1, 0, 0, 1, 0, 1],\n",
       " [1, 0, 1, 1, 0, 0, 0, 1, 1, 1],\n",
       " [1, 0, 1, 1, 0, 1, 1, 1, 1, 1],\n",
       " [0, 1, 1, 0, 1, 1, 1, 0, 1, 0],\n",
       " [0, 0, 0, 1, 0, 0, 1, 0, 0, 1],\n",
       " [0, 1, 1, 1, 0, 0, 0, 1, 0, 1],\n",
       " [0, 0, 0, 0, 0, 1, 1, 1, 1, 0],\n",
       " [0, 0, 0, 1, 1, 1, 1, 0, 1, 0],\n",
       " [0, 1, 1, 1, 0, 0, 0, 1, 1, 0],\n",
       " [0, 0, 1, 0, 1, 0, 0, 1, 1, 0],\n",
       " [0, 1, 1, 1, 0, 0, 1, 1, 0, 1],\n",
       " [0, 0, 1, 1, 0, 0, 0, 1, 0, 1],\n",
       " [0, 0, 1, 1, 0, 0, 1, 1, 1, 1],\n",
       " [0, 1, 0, 1, 1, 1, 0, 0, 1, 1],\n",
       " [0, 1, 0, 1, 1, 1, 1, 1, 1, 0],\n",
       " [1, 1, 1, 1, 0, 1, 1, 1, 0, 0],\n",
       " [0, 1, 0, 0, 0, 1, 0, 0, 1, 0],\n",
       " [1, 1, 0, 1, 1, 1, 1, 1, 1, 1],\n",
       " [1, 0, 1, 1, 1, 0, 0, 0, 0, 1],\n",
       " [0, 0, 1, 1, 0, 0, 1, 0, 0, 1],\n",
       " [1, 1, 0, 0, 1, 0, 0, 1, 1, 0],\n",
       " [1, 1, 1, 0, 1, 1, 0, 1, 1, 0],\n",
       " [0, 0, 1, 0, 1, 0, 0, 1, 0, 1],\n",
       " [0, 1, 1, 0, 0, 1, 1, 0, 0, 0],\n",
       " [0, 0, 0, 0, 1, 0, 0, 1, 0, 1],\n",
       " [1, 1, 0, 0, 0, 0, 1, 0, 0, 1],\n",
       " [0, 0, 1, 0, 1, 1, 0, 0, 0, 0],\n",
       " [0, 0, 1, 0, 0, 0, 0, 1, 1, 0],\n",
       " [0, 1, 1, 1, 1, 0, 0, 0, 0, 0],\n",
       " [0, 0, 1, 0, 1, 0, 0, 0, 1, 0],\n",
       " [0, 0, 0, 1, 1, 1, 1, 1, 0, 0],\n",
       " [0, 1, 1, 1, 0, 0, 0, 1, 0, 0],\n",
       " [0, 1, 0, 0, 0, 0, 0, 1, 0, 1],\n",
       " [0, 0, 0, 0, 0, 0, 0, 1, 0, 1],\n",
       " [0, 1, 1, 0, 1, 1, 0, 0, 0, 0],\n",
       " [0, 1, 1, 1, 1, 0, 0, 0, 0, 1],\n",
       " [0, 1, 1, 0, 0, 0, 0, 1, 1, 0],\n",
       " [0, 1, 1, 1, 0, 0, 0, 0, 1, 0],\n",
       " [1, 1, 0, 0, 1, 1, 0, 0, 0, 1],\n",
       " [1, 0, 1, 0, 1, 1, 1, 0, 1, 1],\n",
       " [1, 1, 0, 1, 1, 1, 1, 1, 0, 0],\n",
       " [0, 1, 0, 0, 1, 0, 0, 0, 1, 1],\n",
       " [1, 0, 0, 0, 1, 1, 0, 0, 0, 0],\n",
       " [0, 1, 0, 0, 0, 0, 1, 1, 1, 1],\n",
       " [1, 1, 1, 0, 1, 0, 0, 0, 0, 0]]"
      ]
     },
     "execution_count": 137,
     "metadata": {},
     "output_type": "execute_result"
    }
   ],
   "source": [
    "population = generate_initial_population()\n",
    "population"
   ]
  },
  {
   "cell_type": "code",
   "execution_count": 138,
   "id": "76819d2e",
   "metadata": {},
   "outputs": [
    {
     "name": "stdout",
     "output_type": "stream",
     "text": [
      "11\n",
      "3\n",
      "23\n",
      "35\n",
      "23\n",
      "12\n",
      "24\n",
      "45\n",
      "21\n",
      "2100\n",
      "12\n",
      "11\n",
      "16\n",
      "11\n",
      "6\n",
      "23\n",
      "6\n",
      "30\n",
      "25\n",
      "34\n",
      "24\n",
      "1700\n",
      "53\n",
      "8\n",
      "5\n",
      "10\n",
      "27\n",
      "7\n",
      "1800\n",
      "2300\n",
      "1\n",
      "1400\n",
      "2000\n",
      "1400\n",
      "1700\n",
      "15\n",
      "1700\n",
      "2000\n",
      "1800\n",
      "1600\n",
      "9\n",
      "3\n",
      "1800\n",
      "9\n",
      "34\n",
      "26\n",
      "7\n",
      "1200\n",
      "21\n",
      "1100\n"
     ]
    }
   ],
   "source": [
    "for _ in population:\n",
    "    print(fitness(_))"
   ]
  },
  {
   "cell_type": "code",
   "execution_count": 139,
   "id": "b0286841",
   "metadata": {},
   "outputs": [
    {
     "data": {
      "text/plain": [
       "[[0, 0, 0, 0, 1, 0, 0, 1, 0, 1],\n",
       " [0, 0, 0, 1, 0, 0, 1, 0, 0, 1],\n",
       " [0, 1, 0, 0, 0, 0, 0, 1, 0, 1],\n",
       " [0, 1, 1, 1, 0, 0, 0, 0, 1, 0],\n",
       " [0, 1, 1, 1, 0, 0, 0, 1, 0, 0],\n",
       " [0, 1, 1, 0, 1, 1, 0, 0, 0, 0],\n",
       " [0, 1, 1, 1, 1, 0, 0, 0, 0, 0],\n",
       " [1, 0, 0, 0, 1, 1, 0, 0, 0, 0],\n",
       " [1, 1, 1, 0, 1, 0, 0, 0, 0, 0],\n",
       " [1, 1, 0, 1, 1, 1, 1, 1, 1, 1],\n",
       " [1, 0, 1, 1, 0, 1, 1, 1, 1, 1],\n",
       " [1, 1, 0, 0, 1, 0, 1, 1, 1, 1],\n",
       " [1, 0, 1, 0, 1, 1, 1, 0, 1, 1],\n",
       " [0, 0, 1, 1, 0, 0, 1, 1, 1, 1],\n",
       " [1, 1, 1, 0, 1, 1, 0, 1, 1, 0],\n",
       " [1, 1, 0, 1, 1, 1, 1, 1, 0, 0],\n",
       " [0, 1, 0, 1, 1, 1, 0, 0, 1, 1],\n",
       " [1, 1, 1, 1, 0, 1, 1, 1, 0, 0],\n",
       " [0, 1, 1, 1, 0, 0, 1, 1, 0, 1],\n",
       " [0, 1, 0, 0, 0, 0, 1, 1, 1, 1]]"
      ]
     },
     "execution_count": 139,
     "metadata": {},
     "output_type": "execute_result"
    }
   ],
   "source": [
    "parents_20 = selection(population)\n",
    "parents_20"
   ]
  },
  {
   "cell_type": "code",
   "execution_count": 140,
   "id": "ffc7a43b",
   "metadata": {},
   "outputs": [
    {
     "data": {
      "text/plain": [
       "[[0, 0, 0, 0, 1, 0, 0, 1, 0, 1],\n",
       " [0, 0, 0, 1, 0, 0, 1, 0, 0, 1],\n",
       " [0, 1, 0, 0, 0, 0, 0, 1, 0, 1],\n",
       " [0, 1, 1, 1, 0, 0, 0, 0, 1, 0],\n",
       " [0, 1, 1, 1, 0, 0, 0, 1, 0, 0],\n",
       " [0, 1, 1, 0, 1, 1, 0, 0, 0, 0],\n",
       " [0, 1, 1, 1, 1, 0, 0, 0, 0, 0],\n",
       " [1, 0, 0, 0, 1, 1, 0, 0, 0, 0],\n",
       " [1, 1, 1, 0, 1, 0, 0, 0, 0, 0],\n",
       " [1, 1, 0, 1, 1, 1, 1, 1, 1, 1],\n",
       " [1, 0, 1, 1, 0, 1, 1, 1, 1, 1],\n",
       " [1, 1, 0, 0, 1, 0, 1, 1, 1, 1],\n",
       " [1, 0, 1, 0, 1, 1, 1, 0, 1, 1],\n",
       " [0, 0, 1, 1, 0, 0, 1, 1, 1, 1],\n",
       " [1, 1, 1, 0, 1, 1, 0, 1, 1, 0],\n",
       " [1, 1, 0, 1, 1, 1, 1, 1, 0, 0],\n",
       " [0, 1, 0, 1, 1, 1, 0, 0, 1, 1],\n",
       " [1, 1, 1, 1, 0, 1, 1, 1, 0, 0],\n",
       " [0, 1, 1, 1, 0, 0, 1, 1, 0, 1],\n",
       " [0, 1, 0, 0, 0, 0, 1, 1, 1, 1],\n",
       " [1, 0, 1, 1, 0, 0, 0, 1, 0, 1],\n",
       " [0, 0, 0, 0, 1, 1, 1, 1, 1, 1],\n",
       " [0, 1, 1, 1, 0, 0, 0, 1, 0, 1],\n",
       " [0, 1, 0, 0, 0, 0, 0, 1, 0, 0],\n",
       " [1, 1, 1, 0, 1, 1, 1, 1, 0, 0],\n",
       " [1, 1, 0, 1, 1, 0, 0, 0, 0, 0],\n",
       " [1, 1, 1, 0, 1, 1, 1, 1, 1, 1],\n",
       " [1, 1, 0, 1, 1, 0, 0, 0, 0, 0],\n",
       " [0, 0, 0, 0, 1, 0, 0, 1, 0, 1],\n",
       " [0, 1, 0, 0, 0, 0, 0, 1, 0, 1],\n",
       " [0, 1, 1, 1, 1, 1, 0, 1, 1, 0],\n",
       " [1, 1, 1, 0, 1, 0, 0, 0, 0, 0],\n",
       " [1, 0, 1, 0, 1, 1, 1, 1, 1, 1],\n",
       " [1, 0, 1, 1, 0, 1, 1, 0, 1, 1],\n",
       " [0, 1, 1, 1, 0, 0, 0, 0, 1, 0],\n",
       " [0, 1, 1, 1, 0, 0, 0, 0, 1, 0],\n",
       " [1, 1, 0, 1, 1, 1, 1, 0, 1, 1],\n",
       " [1, 0, 1, 0, 1, 1, 1, 1, 0, 0],\n",
       " [0, 1, 1, 1, 0, 0, 0, 1, 0, 0],\n",
       " [0, 1, 1, 1, 0, 0, 0, 1, 0, 0],\n",
       " [1, 1, 1, 0, 1, 1, 0, 0, 0, 0],\n",
       " [0, 1, 1, 0, 1, 0, 0, 0, 0, 0],\n",
       " [1, 1, 0, 1, 1, 1, 0, 0, 0, 0],\n",
       " [1, 0, 0, 0, 1, 1, 1, 1, 1, 1],\n",
       " [1, 1, 0, 1, 1, 1, 1, 0, 1, 1],\n",
       " [1, 0, 1, 0, 1, 1, 1, 1, 0, 0],\n",
       " [1, 1, 0, 1, 1, 0, 0, 0, 0, 0],\n",
       " [0, 1, 1, 1, 1, 1, 1, 1, 0, 0],\n",
       " [0, 1, 1, 1, 1, 0, 1, 1, 1, 1],\n",
       " [1, 1, 0, 0, 1, 0, 0, 0, 0, 0]]"
      ]
     },
     "execution_count": 140,
     "metadata": {},
     "output_type": "execute_result"
    }
   ],
   "source": [
    "after_crossover = crossover(population)\n",
    "after_crossover"
   ]
  },
  {
   "cell_type": "code",
   "execution_count": 141,
   "id": "38e944b3",
   "metadata": {},
   "outputs": [
    {
     "data": {
      "text/plain": [
       "[[0, 0, 0, 0, 1, 0, 0, 1, 1, 1],\n",
       " [0, 0, 0, 0, 0, 1, 1, 0, 0, 1],\n",
       " [1, 1, 0, 0, 0, 0, 0, 1, 0, 0],\n",
       " [0, 1, 1, 0, 1, 0, 0, 1, 1, 0],\n",
       " [0, 1, 0, 1, 0, 0, 0, 1, 0, 0],\n",
       " [1, 1, 1, 0, 1, 1, 0, 0, 0, 0],\n",
       " [1, 0, 1, 1, 1, 0, 0, 0, 1, 0],\n",
       " [1, 0, 0, 0, 1, 1, 0, 0, 1, 0],\n",
       " [0, 1, 1, 0, 1, 1, 1, 0, 0, 0],\n",
       " [1, 1, 1, 1, 1, 1, 1, 1, 1, 1],\n",
       " [1, 0, 1, 0, 0, 0, 1, 1, 0, 1],\n",
       " [1, 1, 0, 0, 0, 0, 1, 1, 1, 1],\n",
       " [1, 0, 1, 0, 0, 1, 1, 0, 1, 1],\n",
       " [0, 0, 1, 1, 0, 0, 1, 1, 1, 1],\n",
       " [0, 0, 1, 0, 1, 1, 0, 1, 1, 0],\n",
       " [0, 1, 0, 1, 1, 1, 1, 1, 0, 1],\n",
       " [0, 1, 0, 0, 1, 1, 0, 0, 1, 1],\n",
       " [1, 1, 0, 1, 0, 1, 1, 0, 0, 0],\n",
       " [0, 1, 1, 0, 0, 0, 0, 1, 0, 1],\n",
       " [0, 1, 0, 0, 0, 0, 1, 0, 1, 1],\n",
       " [0, 1, 1, 1, 0, 0, 0, 0, 0, 0],\n",
       " [0, 1, 0, 0, 0, 1, 1, 1, 1, 1],\n",
       " [0, 1, 1, 1, 0, 1, 0, 1, 1, 1],\n",
       " [0, 0, 0, 1, 1, 0, 0, 1, 0, 0],\n",
       " [1, 1, 0, 1, 1, 1, 1, 1, 1, 0],\n",
       " [1, 1, 0, 1, 0, 0, 0, 0, 1, 0],\n",
       " [1, 1, 0, 0, 1, 1, 1, 0, 1, 1],\n",
       " [1, 1, 0, 1, 1, 0, 1, 1, 0, 0],\n",
       " [0, 0, 0, 0, 1, 0, 0, 1, 0, 0],\n",
       " [1, 1, 0, 0, 0, 0, 0, 1, 1, 1],\n",
       " [0, 1, 1, 1, 1, 1, 0, 0, 1, 0],\n",
       " [1, 1, 1, 0, 1, 1, 0, 1, 0, 0],\n",
       " [0, 0, 0, 1, 1, 1, 1, 1, 1, 0],\n",
       " [1, 0, 0, 1, 1, 0, 1, 1, 1, 1],\n",
       " [1, 1, 1, 1, 0, 0, 0, 1, 1, 0],\n",
       " [0, 1, 0, 1, 0, 0, 0, 0, 1, 1],\n",
       " [1, 0, 0, 1, 1, 1, 1, 1, 1, 0],\n",
       " [1, 0, 0, 0, 1, 1, 1, 1, 0, 0],\n",
       " [0, 1, 1, 1, 0, 0, 0, 1, 0, 0],\n",
       " [1, 1, 0, 1, 0, 0, 0, 1, 1, 0],\n",
       " [1, 0, 1, 0, 1, 1, 0, 1, 1, 0],\n",
       " [1, 0, 0, 0, 1, 1, 0, 1, 0, 0],\n",
       " [1, 1, 0, 1, 1, 0, 0, 1, 1, 0],\n",
       " [0, 1, 0, 1, 1, 1, 1, 1, 1, 1],\n",
       " [1, 0, 0, 1, 1, 0, 1, 0, 1, 1],\n",
       " [1, 0, 1, 0, 1, 1, 1, 1, 0, 1],\n",
       " [0, 1, 0, 1, 1, 0, 0, 0, 1, 0],\n",
       " [1, 1, 1, 0, 1, 1, 1, 0, 0, 1],\n",
       " [0, 1, 1, 0, 1, 0, 1, 1, 1, 1],\n",
       " [1, 1, 0, 0, 1, 0, 0, 0, 0, 0]]"
      ]
     },
     "execution_count": 141,
     "metadata": {},
     "output_type": "execute_result"
    }
   ],
   "source": [
    "after_mutation = mutate(after_crossover)\n",
    "after_mutation"
   ]
  },
  {
   "cell_type": "code",
   "execution_count": 142,
   "id": "13b07f84",
   "metadata": {},
   "outputs": [
    {
     "name": "stdout",
     "output_type": "stream",
     "text": [
      "========================\n",
      "Fitness Score : 1900\n",
      "Combination : [1, 1, 0, 0, 0, 1, 0, 0, 0, 1]\n",
      "========================\n",
      "========================\n",
      "Fitness Score : 2300\n",
      "Combination : [0, 0, 0, 0, 1, 0, 0, 1, 0, 1]\n",
      "========================\n"
     ]
    }
   ],
   "source": [
    "while True:\n",
    "    population = crossover(population)\n",
    "    population = mutate(population)\n",
    "    fitness_in_this_iteration, best_combination = get_current_best_fitness(population)\n",
    "    if fitness_in_this_iteration == current_best_fitness:\n",
    "        print(\"========================\")\n",
    "        \n",
    "        break\n",
    "    if fitness_in_this_iteration > current_best_fitness:\n",
    "        current_best_fitness = fitness_in_this_iteration\n",
    "        print(\"========================\")\n",
    "        print(f\"Fitness Score : {fitness_in_this_iteration}\")\n",
    "        print(f\"Combination : {best_combination}\")\n",
    "        print(\"========================\")\n",
    "    "
   ]
  },
  {
   "cell_type": "code",
   "execution_count": null,
   "id": "8a946001",
   "metadata": {},
   "outputs": [],
   "source": []
  }
 ],
 "metadata": {
  "kernelspec": {
   "display_name": "Python 3 (ipykernel)",
   "language": "python",
   "name": "python3"
  },
  "language_info": {
   "codemirror_mode": {
    "name": "ipython",
    "version": 3
   },
   "file_extension": ".py",
   "mimetype": "text/x-python",
   "name": "python",
   "nbconvert_exporter": "python",
   "pygments_lexer": "ipython3",
   "version": "3.11.4"
  }
 },
 "nbformat": 4,
 "nbformat_minor": 5
}
